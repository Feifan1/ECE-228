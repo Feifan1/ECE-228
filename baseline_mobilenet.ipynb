{
 "cells": [
  {
   "cell_type": "code",
   "execution_count": 1,
   "metadata": {},
   "outputs": [
    {
     "name": "stdout",
     "output_type": "stream",
     "text": [
      "TensorFlow version: 1.12.0\n",
      "Eager execution: True\n"
     ]
    }
   ],
   "source": [
    "from __future__ import absolute_import, division, print_function\n",
    "\n",
    "import os\n",
    "import matplotlib.pyplot as plt\n",
    "import pandas as pd\n",
    "import tensorflow as tf\n",
    "import pathlib \n",
    "import numpy as np\n",
    "\n",
    "tf.enable_eager_execution()\n",
    "\n",
    "print(\"TensorFlow version: {}\".format(tf.__version__))\n",
    "print(\"Eager execution: {}\".format(tf.executing_eagerly()))"
   ]
  },
  {
   "cell_type": "code",
   "execution_count": 2,
   "metadata": {},
   "outputs": [
    {
     "data": {
      "text/plain": [
       "8144"
      ]
     },
     "execution_count": 2,
     "metadata": {},
     "output_type": "execute_result"
    }
   ],
   "source": [
    "data_root = './cars_train'\n",
    "data_root = pathlib.Path(data_root)\n",
    "\n",
    "all_image_paths = sorted([str(path) for path in data_root.iterdir()])\n",
    "\n",
    "len(all_image_paths)"
   ]
  },
  {
   "cell_type": "code",
   "execution_count": 3,
   "metadata": {},
   "outputs": [],
   "source": [
    "traindata = pd.read_csv('traindata.csv', index_col=0)"
   ]
  },
  {
   "cell_type": "code",
   "execution_count": 4,
   "metadata": {},
   "outputs": [],
   "source": [
    "train_paths = all_image_paths\n",
    "train_labels = traindata['class'].tolist()\n",
    "\n",
    "train_bbox = traindata[['bbox1', 'bbox2', 'bbox3', 'bbox4']].values.tolist()\n",
    "train_bbox = np.array(train_bbox, dtype=np.str)\n",
    "\n",
    "all_image_paths = np.array(all_image_paths).reshape((-1, 1))\n",
    "\n",
    "all_image_paths = np.concatenate((all_image_paths, train_bbox), axis=1)"
   ]
  },
  {
   "cell_type": "code",
   "execution_count": 5,
   "metadata": {},
   "outputs": [],
   "source": [
    "def preprocess_image(image, bbox):\n",
    "    image = tf.image.decode_jpeg(image, channels=3)\n",
    "    image = tf.image.crop_to_bounding_box(image, bbox[1], bbox[0], bbox[3]-bbox[1],\n",
    "                                          bbox[2] - bbox[0])\n",
    "    image = tf.image.resize_images(image, [224, 224])\n",
    "    image = (image - 127.5)/127.5  # normalize to [-1,1] range\n",
    "    return image"
   ]
  },
  {
   "cell_type": "code",
   "execution_count": 6,
   "metadata": {},
   "outputs": [],
   "source": [
    "def load_and_preprocess_image(path):\n",
    "    image = tf.read_file(path[0])\n",
    "    return preprocess_image(image, tf.string_to_number(path[1:], out_type=tf.int32))"
   ]
  },
  {
   "cell_type": "markdown",
   "metadata": {},
   "source": [
    "# Build the Dataset"
   ]
  },
  {
   "cell_type": "code",
   "execution_count": 7,
   "metadata": {},
   "outputs": [],
   "source": [
    "path_ds = tf.data.Dataset.from_tensor_slices(all_image_paths)\n",
    "image_ds = path_ds.map(load_and_preprocess_image)\n",
    "\n",
    "label_ds = tf.data.Dataset.from_tensor_slices(tf.cast(np.array(train_labels) - 1, tf.int64))\n",
    "\n",
    "image_label_ds = tf.data.Dataset.zip((image_ds, label_ds))"
   ]
  },
  {
   "cell_type": "code",
   "execution_count": 8,
   "metadata": {},
   "outputs": [
    {
     "name": "stdout",
     "output_type": "stream",
     "text": [
      "image shape:  (224, 224, 3)\n",
      "label shape:  ()\n",
      "types:  (tf.float32, tf.int64)\n",
      "\n",
      "<ZipDataset shapes: ((224, 224, 3), ()), types: (tf.float32, tf.int64)>\n"
     ]
    }
   ],
   "source": [
    "print('image shape: ', image_label_ds.output_shapes[0])\n",
    "print('label shape: ', image_label_ds.output_shapes[1])\n",
    "print('types: ', image_label_ds.output_types)\n",
    "print()\n",
    "print(image_label_ds)"
   ]
  },
  {
   "cell_type": "code",
   "execution_count": 9,
   "metadata": {},
   "outputs": [
    {
     "data": {
      "text/plain": [
       "<PrefetchDataset shapes: ((?, 224, 224, 3), (?,)), types: (tf.float32, tf.int64)>"
      ]
     },
     "execution_count": 9,
     "metadata": {},
     "output_type": "execute_result"
    }
   ],
   "source": [
    "BATCH_SIZE = 32\n",
    "image_count = len(all_image_paths)\n",
    "# Setting a shuffle buffer size as large as the dataset ensures that the data is\n",
    "# completely shuffled.\n",
    "ds = image_label_ds.shuffle(buffer_size=image_count)\n",
    "ds = ds.repeat()\n",
    "ds = ds.batch(BATCH_SIZE)\n",
    "# `prefetch` lets the dataset fetch batches, in the background while the model is training.\n",
    "ds = ds.prefetch(buffer_size=64)\n",
    "ds"
   ]
  },
  {
   "cell_type": "markdown",
   "metadata": {},
   "source": [
    "# Pass Dataset to model"
   ]
  },
  {
   "cell_type": "code",
   "execution_count": 10,
   "metadata": {},
   "outputs": [],
   "source": [
    "mobile_net = tf.keras.applications.MobileNetV2(input_shape=(224, 224, 3), include_top=False)\n",
    "mobile_net.trainable=True"
   ]
  },
  {
   "cell_type": "code",
   "execution_count": 11,
   "metadata": {},
   "outputs": [],
   "source": [
    "model = tf.keras.Sequential([mobile_net,tf.keras.layers.GlobalAveragePooling2D(),\n",
    "                            tf.keras.layers.Dense(196, activation='softmax')])\n",
    "\n",
    "optimizer = tf.train.AdamOptimizer(learning_rate=0.0001)\n",
    "model.compile(optimizer=optimizer,\n",
    "              loss='sparse_categorical_crossentropy',\n",
    "              metrics=[\"accuracy\"])"
   ]
  },
  {
   "cell_type": "code",
   "execution_count": 12,
   "metadata": {},
   "outputs": [
    {
     "name": "stdout",
     "output_type": "stream",
     "text": [
      "_________________________________________________________________\n",
      "Layer (type)                 Output Shape              Param #   \n",
      "=================================================================\n",
      "mobilenetv2_1.00_224 (Model) (None, 7, 7, 1280)        2257984   \n",
      "_________________________________________________________________\n",
      "global_average_pooling2d (Gl (None, 1280)              0         \n",
      "_________________________________________________________________\n",
      "dense (Dense)                (None, 196)               251076    \n",
      "=================================================================\n",
      "Total params: 2,509,060\n",
      "Trainable params: 2,474,948\n",
      "Non-trainable params: 34,112\n",
      "_________________________________________________________________\n"
     ]
    }
   ],
   "source": [
    "model.summary()"
   ]
  },
  {
   "cell_type": "code",
   "execution_count": 13,
   "metadata": {},
   "outputs": [],
   "source": [
    "# # Test Dataset Performace\n",
    "# import time\n",
    "# steps_per_epoch=tf.math.ceil(len(all_image_paths)/BATCH_SIZE).numpy()\n",
    "# steps_per_epoch\n",
    "\n",
    "\n",
    "# default_timeit_steps = 2*steps_per_epoch+1\n",
    "\n",
    "# def timeit(ds, steps=default_timeit_steps):\n",
    "#     overall_start = time.time()\n",
    "#     # Fetch a single batch to prime the pipeline (fill the shuffle buffer),\n",
    "#     # before starting the timer\n",
    "#     it = iter(ds.take(steps+1))\n",
    "#     next(it)\n",
    "\n",
    "#     start = time.time()\n",
    "#     for i,(images,labels) in enumerate(it):\n",
    "#         if i%10 == 0:\n",
    "#             print('.',end='')\n",
    "#     print()\n",
    "#     end = time.time()\n",
    "\n",
    "#     duration = end-start\n",
    "#     print(\"{} batches: {} s\".format(steps, duration))\n",
    "#     print(\"{:0.5f} Images/s\".format(BATCH_SIZE*steps/duration))\n",
    "#     print(\"Total time: {}s\".format(end-overall_start))"
   ]
  },
  {
   "cell_type": "code",
   "execution_count": 14,
   "metadata": {},
   "outputs": [],
   "source": [
    "# timeit(ds)"
   ]
  },
  {
   "cell_type": "code",
   "execution_count": 13,
   "metadata": {},
   "outputs": [],
   "source": [
    "class CollectBatchStats(tf.keras.callbacks.Callback):\n",
    "    def __init__(self):\n",
    "        self.batch_losses = []\n",
    "        self.batch_acc = []\n",
    "\n",
    "    def on_batch_end(self, batch, logs=None):\n",
    "        self.batch_losses.append(logs['loss'])\n",
    "        self.batch_acc.append(logs['acc'])"
   ]
  },
  {
   "cell_type": "code",
   "execution_count": 14,
   "metadata": {},
   "outputs": [
    {
     "name": "stdout",
     "output_type": "stream",
     "text": [
      "Epoch 1/8\n",
      "255/255 [==============================] - 162s 637ms/step - loss: 4.6174 - acc: 0.1067\n",
      "Epoch 2/8\n",
      "255/255 [==============================] - 107s 421ms/step - loss: 2.2956 - acc: 0.5828\n",
      "Epoch 3/8\n",
      "255/255 [==============================] - 110s 430ms/step - loss: 1.0499 - acc: 0.8442\n",
      "Epoch 4/8\n",
      "255/255 [==============================] - 108s 424ms/step - loss: 0.4941 - acc: 0.9489\n",
      "Epoch 5/8\n",
      "255/255 [==============================] - 109s 429ms/step - loss: 0.2444 - acc: 0.9832\n",
      "Epoch 6/8\n",
      "255/255 [==============================] - 110s 429ms/step - loss: 0.1315 - acc: 0.9947\n",
      "Epoch 7/8\n",
      "255/255 [==============================] - 103s 404ms/step - loss: 0.0812 - acc: 0.9964\n",
      "Epoch 8/8\n",
      "255/255 [==============================] - 110s 431ms/step - loss: 0.0559 - acc: 0.9969\n"
     ]
    },
    {
     "data": {
      "text/plain": [
       "<tensorflow.python.keras.callbacks.History at 0x7f3c33d7c940>"
      ]
     },
     "execution_count": 14,
     "metadata": {},
     "output_type": "execute_result"
    }
   ],
   "source": [
    "batch_stats = CollectBatchStats()\n",
    "steps_per_epoch=tf.ceil(len(all_image_paths)/BATCH_SIZE).numpy().astype(np.int)\n",
    "model.fit(ds, epochs=8, steps_per_epoch=steps_per_epoch, callbacks = [batch_stats])"
   ]
  },
  {
   "cell_type": "code",
   "execution_count": 15,
   "metadata": {},
   "outputs": [
    {
     "data": {
      "text/plain": [
       "[<matplotlib.lines.Line2D at 0x7f3c301e8f60>]"
      ]
     },
     "execution_count": 15,
     "metadata": {},
     "output_type": "execute_result"
    },
    {
     "data": {
      "image/png": "[encoded data removed]",
      "text/plain": [
       "<Figure size 432x288 with 1 Axes>"
      ]
     },
     "metadata": {
      "needs_background": "light"
     },
     "output_type": "display_data"
    },
    {
     "data": {
      "image/png": "[encoded data removed]",
      "text/plain": [
       "<Figure size 432x288 with 1 Axes>"
      ]
     },
     "metadata": {
      "needs_background": "light"
     },
     "output_type": "display_data"
    }
   ],
   "source": [
    "plt.figure()\n",
    "plt.ylabel(\"Loss\")\n",
    "plt.xlabel(\"Training Steps\")\n",
    "plt.ylim([0,10])\n",
    "plt.plot(batch_stats.batch_losses)\n",
    "\n",
    "plt.figure()\n",
    "plt.ylabel(\"Accuracy\")\n",
    "plt.xlabel(\"Training Steps\")\n",
    "plt.ylim([0,1])\n",
    "plt.plot(batch_stats.batch_acc)\n",
    "\n"
   ]
  },
  {
   "cell_type": "code",
   "execution_count": 16,
   "metadata": {},
   "outputs": [],
   "source": [
    "model.save_weights(\"model.h5\")"
   ]
  },
  {
   "cell_type": "markdown",
   "metadata": {},
   "source": [
    "# TestSet"
   ]
  },
  {
   "cell_type": "code",
   "execution_count": 17,
   "metadata": {},
   "outputs": [],
   "source": [
    "model2 = tf.keras.Sequential([mobile_net,tf.keras.layers.GlobalAveragePooling2D(),\n",
    "                            tf.keras.layers.Dense(196, activation='softmax')])\n",
    "\n",
    "optimizer = tf.train.AdamOptimizer(learning_rate=0.0001)\n",
    "model2.compile(optimizer=optimizer,\n",
    "              loss='sparse_categorical_crossentropy',\n",
    "              metrics=[\"accuracy\"])\n",
    "model2.load_weights('./model.h5')"
   ]
  },
  {
   "cell_type": "code",
   "execution_count": 18,
   "metadata": {},
   "outputs": [],
   "source": [
    "testdata = pd.read_csv('testdata.csv', index_col=0)"
   ]
  },
  {
   "cell_type": "code",
   "execution_count": 19,
   "metadata": {},
   "outputs": [
    {
     "data": {
      "text/plain": [
       "8041"
      ]
     },
     "execution_count": 19,
     "metadata": {},
     "output_type": "execute_result"
    }
   ],
   "source": [
    "test_data_root = './cars_test'\n",
    "test_data_root = pathlib.Path(test_data_root)\n",
    "\n",
    "test_paths = sorted([str(path) for path in test_data_root.iterdir()])\n",
    "\n",
    "len(test_paths)"
   ]
  },
  {
   "cell_type": "code",
   "execution_count": 20,
   "metadata": {},
   "outputs": [],
   "source": [
    "test_labels = testdata['class'].tolist()\n",
    "\n",
    "test_bbox = testdata[['bbox1', 'bbox2', 'bbox3', 'bbox4']].values.tolist()\n",
    "test_bbox = np.array(test_bbox, dtype=np.str)\n",
    "\n",
    "test_paths = np.array(test_paths).reshape((-1, 1))\n",
    "\n",
    "test_paths = np.concatenate((test_paths, test_bbox), axis=1)"
   ]
  },
  {
   "cell_type": "code",
   "execution_count": 21,
   "metadata": {},
   "outputs": [],
   "source": [
    "test_path_ds = tf.data.Dataset.from_tensor_slices(test_paths)\n",
    "test_image_ds = test_path_ds.map(load_and_preprocess_image)"
   ]
  },
  {
   "cell_type": "code",
   "execution_count": 22,
   "metadata": {},
   "outputs": [],
   "source": [
    "test_label_ds = tf.data.Dataset.from_tensor_slices(tf.cast(np.array(test_labels) - 1, tf.int64))\n",
    "\n",
    "test_image_label_ds = tf.data.Dataset.zip((test_image_ds, test_label_ds))\n",
    "test_image_label_ds = test_image_label_ds.batch(BATCH_SIZE)"
   ]
  },
  {
   "cell_type": "code",
   "execution_count": 23,
   "metadata": {},
   "outputs": [
    {
     "name": "stdout",
     "output_type": "stream",
     "text": [
      "252/252 [==============================] - 76s 302ms/step\n"
     ]
    },
    {
     "data": {
      "text/plain": [
       "[0.9062630948832402, 0.782738465372417]"
      ]
     },
     "execution_count": 23,
     "metadata": {},
     "output_type": "execute_result"
    }
   ],
   "source": [
    "model2.evaluate(test_image_label_ds, steps=tf.ceil(len(test_paths)/BATCH_SIZE).numpy().astype(np.int))"
   ]
  },
  {
   "cell_type": "code",
   "execution_count": null,
   "metadata": {},
   "outputs": [],
   "source": []
  }
 ],
 "metadata": {
  "kernelspec": {
   "display_name": "Python 3",
   "language": "python",
   "name": "python3"
  },
  "language_info": {
   "codemirror_mode": {
    "name": "ipython",
    "version": 3
   },
   "file_extension": ".py",
   "mimetype": "text/x-python",
   "name": "python",
   "nbconvert_exporter": "python",
   "pygments_lexer": "ipython3",
   "version": "3.6.8"
  }
 },
 "nbformat": 4,
 "nbformat_minor": 2
}
